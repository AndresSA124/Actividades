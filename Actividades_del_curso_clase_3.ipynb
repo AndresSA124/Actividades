{
  "nbformat": 4,
  "nbformat_minor": 0,
  "metadata": {
    "colab": {
      "name": "Actividades del curso clase 3.ipynb",
      "provenance": [],
      "authorship_tag": "ABX9TyP36jVOLpDEOTDib7hPfrB7",
      "include_colab_link": true
    },
    "kernelspec": {
      "name": "python3",
      "display_name": "Python 3"
    }
  },
  "cells": [
    {
      "cell_type": "markdown",
      "metadata": {
        "id": "view-in-github",
        "colab_type": "text"
      },
      "source": [
        "<a href=\"https://colab.research.google.com/github/AndresSA124/Actividades/blob/main/Actividades_del_curso_clase_3.ipynb\" target=\"_parent\"><img src=\"https://colab.research.google.com/assets/colab-badge.svg\" alt=\"Open In Colab\"/></a>"
      ]
    },
    {
      "cell_type": "code",
      "metadata": {
        "id": "o4typuWdIz_H",
        "colab": {
          "base_uri": "https://localhost:8080/"
        },
        "outputId": "f293b50f-2cea-4aca-e902-945346d0a251"
      },
      "source": [
        "print(\"Ingrese la placa de su vehiculo por favor \")\r\n",
        "Placa = input()\r\n",
        "Placa = str(Placa)\r\n",
        "print(\"Ingrese el modelo de su vehiculo por favor \")\r\n",
        "Modelo = input()\r\n",
        "Modelo = str(Modelo)\r\n",
        "print(\"Ingrese el año de su vehiculo por favor\")\r\n",
        "Año = input()\r\n",
        "Año = str(Año)\r\n",
        "\r\n",
        "Automoviles = {\r\n",
        "    'Marca':'Volkswagen',\r\n",
        "    'Planta':'Puebla',\r\n",
        "    'Lugar_fabricacion':'México',\r\n",
        "  }\r\n",
        "\r\n",
        "  #{\r\n",
        "    #'Marca':'Nissan',\r\n",
        "    #'Planta':'Miami',\r\n",
        "    #'Lugar_fabricacion':'Estados Unidos',\r\n",
        " #} \r\n",
        "#]\r\n",
        "\r\n",
        "\r\n",
        "Automoviles.update({'Info':['Rojo', 'Deportivo', 'Promocion']})\r\n",
        "print(Automoviles)\r\n",
        "\r\n"
      ],
      "execution_count": 22,
      "outputs": [
        {
          "output_type": "stream",
          "text": [
            "Ingrese la placa de su vehiculo por favor \n",
            "12345\n",
            "Ingrese el modelo de su vehiculo por favor \n",
            "Vento\n",
            "Ingrese el año de su vehiculo por favor\n",
            "2020\n",
            "{'Marca': 'Volkswagen', 'Planta': 'Puebla', 'Lugar_fabricacion': 'México', 'Info': ['Rojo', 'Deportivo', 'Promocion']}\n"
          ],
          "name": "stdout"
        }
      ]
    }
  ]
}