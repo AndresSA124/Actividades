{
  "nbformat": 4,
  "nbformat_minor": 0,
  "metadata": {
    "colab": {
      "name": "Actividades curso.ipynb",
      "provenance": [],
      "authorship_tag": "ABX9TyMaxk8iOR223b3ZE9aWxt6D",
      "include_colab_link": true
    },
    "kernelspec": {
      "name": "python3",
      "display_name": "Python 3"
    }
  },
  "cells": [
    {
      "cell_type": "markdown",
      "metadata": {
        "id": "view-in-github",
        "colab_type": "text"
      },
      "source": [
        "<a href=\"https://colab.research.google.com/github/AndresSA124/Actividades/blob/main/Actividades_curso.ipynb\" target=\"_parent\"><img src=\"https://colab.research.google.com/assets/colab-badge.svg\" alt=\"Open In Colab\"/></a>"
      ]
    },
    {
      "cell_type": "markdown",
      "metadata": {
        "id": "gBZMc6WGTcHU"
      },
      "source": [
        "# Actividad clase 1"
      ]
    },
    {
      "cell_type": "code",
      "metadata": {
        "colab": {
          "base_uri": "https://localhost:8080/"
        },
        "id": "KFLDbinwUAXv",
        "outputId": "e49a4549-7720-4d3c-9070-7f545d4cd24e"
      },
      "source": [
        "print(\"Ingrese su primer nombre por favor\")\r\n",
        "Nombre1 = input()\r\n",
        "print(\"Ingrese su segundo nombre por favor\")\r\n",
        "Nombre2 = input()\r\n",
        "print(\"Ingrese su primer apellido por favor\")\r\n",
        "Apellido1 = input()\r\n",
        "print(\"Ingrese su segundo apellido por favor\")\r\n",
        "Apellido2 = input()\r\n",
        "Nombre =  Nombre1 + Nombre2 + Apellido1 + Apellido2\r\n",
        "\r\n",
        "print(\"Su nombre completo es:\", Nombre1, Nombre2, Apellido1, Apellido2)"
      ],
      "execution_count": 23,
      "outputs": [
        {
          "output_type": "stream",
          "text": [
            "Ingrese su primer nombre por favor\n",
            "Andrés\n",
            "Ingrese su segundo nombre por favor\n",
            "Felipe\n",
            "Ingrese su primer apellido por favor\n",
            "Serrano\n",
            "Ingrese su segundo apellido por favor\n",
            "Angulo\n",
            "Su nombre completo es: Andrés Felipe Serrano Angulo\n"
          ],
          "name": "stdout"
        }
      ]
    }
  ]
}